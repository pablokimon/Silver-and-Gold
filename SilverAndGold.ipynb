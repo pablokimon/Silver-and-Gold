{
 "cells": [
  {
   "cell_type": "code",
   "execution_count": 1,
   "metadata": {},
   "outputs": [],
   "source": [
    "import sys\n",
    "import itertools\n",
    "import numpy as np\n",
    "import pandas as pd\n",
    "import matplotlib.pyplot as plt\n",
    "%matplotlib inline\n",
    "\n",
    "import statsmodels.api as sm\n",
    "from statsmodels.tsa.arima_model import ARIMA, ARIMAResults\n",
    "from statsmodels.tsa.arima_process import ArmaProcess\n",
    "from statsmodels.stats.diagnostic import acorr_ljungbox\n",
    "from scipy import signal\n",
    "from scipy import stats"
   ]
  },
  {
   "cell_type": "markdown",
   "metadata": {},
   "source": [
    "1. Please download the historical prices and dates of gold and silver from these 2 URLs (Jan 2019 till now):\n",
    "\n",
    " \n",
    "\n",
    "•             https://www.investing.com/commodities/gold-historical-data\n",
    "\n",
    "•             https://www.investing.com/commodities/silver-historical-data\n",
    "\n",
    " \n",
    "\n",
    "and store them locally (in a file or database, as you see fit)."
   ]
  },
  {
   "cell_type": "code",
   "execution_count": 3,
   "metadata": {},
   "outputs": [],
   "source": [
    "#the 'Price' column in the gold csv was importing as object instead of float \n",
    "#so i added the thousands=',' to account for the comma\n",
    "silver_df = pd.read_csv('./data/Silver Futures Historical Data.csv',sep=',', thousands=',')\n",
    "gold_df = pd.read_csv('./data/Gold Futures Historical Data.csv',sep=',', thousands=',')"
   ]
  },
  {
   "cell_type": "code",
   "execution_count": 4,
   "metadata": {},
   "outputs": [],
   "source": [
    "silver_df['Date']= pd.to_datetime(silver_df['Date'])\n",
    "gold_df['Date']= pd.to_datetime(gold_df['Date'])"
   ]
  },
  {
   "cell_type": "code",
   "execution_count": 5,
   "metadata": {},
   "outputs": [
    {
     "name": "stdout",
     "output_type": "stream",
     "text": [
      "<class 'pandas.core.frame.DataFrame'>\n",
      "RangeIndex: 139 entries, 0 to 138\n",
      "Data columns (total 7 columns):\n",
      "Date        139 non-null datetime64[ns]\n",
      "Price       139 non-null float64\n",
      "Open        139 non-null float64\n",
      "High        139 non-null float64\n",
      "Low         139 non-null float64\n",
      "Vol.        139 non-null object\n",
      "Change %    139 non-null object\n",
      "dtypes: datetime64[ns](1), float64(4), object(2)\n",
      "memory usage: 7.7+ KB\n"
     ]
    }
   ],
   "source": [
    "silver_df.info()"
   ]
  },
  {
   "cell_type": "code",
   "execution_count": 7,
   "metadata": {},
   "outputs": [
    {
     "data": {
      "text/html": [
       "<div>\n",
       "<style scoped>\n",
       "    .dataframe tbody tr th:only-of-type {\n",
       "        vertical-align: middle;\n",
       "    }\n",
       "\n",
       "    .dataframe tbody tr th {\n",
       "        vertical-align: top;\n",
       "    }\n",
       "\n",
       "    .dataframe thead th {\n",
       "        text-align: right;\n",
       "    }\n",
       "</style>\n",
       "<table border=\"1\" class=\"dataframe\">\n",
       "  <thead>\n",
       "    <tr style=\"text-align: right;\">\n",
       "      <th></th>\n",
       "      <th>Date</th>\n",
       "      <th>Price</th>\n",
       "      <th>Open</th>\n",
       "      <th>High</th>\n",
       "      <th>Low</th>\n",
       "      <th>Vol.</th>\n",
       "      <th>Change %</th>\n",
       "    </tr>\n",
       "  </thead>\n",
       "  <tbody>\n",
       "    <tr>\n",
       "      <th>0</th>\n",
       "      <td>2019-06-11</td>\n",
       "      <td>14.738</td>\n",
       "      <td>14.695</td>\n",
       "      <td>14.783</td>\n",
       "      <td>14.633</td>\n",
       "      <td>-</td>\n",
       "      <td>0.28%</td>\n",
       "    </tr>\n",
       "    <tr>\n",
       "      <th>1</th>\n",
       "      <td>2019-06-10</td>\n",
       "      <td>14.697</td>\n",
       "      <td>14.973</td>\n",
       "      <td>14.998</td>\n",
       "      <td>14.627</td>\n",
       "      <td>-</td>\n",
       "      <td>-1.84%</td>\n",
       "    </tr>\n",
       "    <tr>\n",
       "      <th>2</th>\n",
       "      <td>2019-06-09</td>\n",
       "      <td>14.973</td>\n",
       "      <td>15.008</td>\n",
       "      <td>15.008</td>\n",
       "      <td>14.953</td>\n",
       "      <td>-</td>\n",
       "      <td>-0.21%</td>\n",
       "    </tr>\n",
       "    <tr>\n",
       "      <th>3</th>\n",
       "      <td>2019-06-07</td>\n",
       "      <td>15.005</td>\n",
       "      <td>14.852</td>\n",
       "      <td>15.148</td>\n",
       "      <td>14.842</td>\n",
       "      <td>-</td>\n",
       "      <td>1.00%</td>\n",
       "    </tr>\n",
       "    <tr>\n",
       "      <th>4</th>\n",
       "      <td>2019-06-06</td>\n",
       "      <td>14.857</td>\n",
       "      <td>14.793</td>\n",
       "      <td>14.988</td>\n",
       "      <td>14.732</td>\n",
       "      <td>-</td>\n",
       "      <td>0.43%</td>\n",
       "    </tr>\n",
       "  </tbody>\n",
       "</table>\n",
       "</div>"
      ],
      "text/plain": [
       "        Date   Price    Open    High     Low Vol. Change %\n",
       "0 2019-06-11  14.738  14.695  14.783  14.633    -    0.28%\n",
       "1 2019-06-10  14.697  14.973  14.998  14.627    -   -1.84%\n",
       "2 2019-06-09  14.973  15.008  15.008  14.953    -   -0.21%\n",
       "3 2019-06-07  15.005  14.852  15.148  14.842    -    1.00%\n",
       "4 2019-06-06  14.857  14.793  14.988  14.732    -    0.43%"
      ]
     },
     "execution_count": 7,
     "metadata": {},
     "output_type": "execute_result"
    }
   ],
   "source": [
    "silver_df.head()"
   ]
  },
  {
   "cell_type": "code",
   "execution_count": 61,
   "metadata": {},
   "outputs": [
    {
     "data": {
      "text/plain": [
       "Text(0.5, 1.0, 'Silver Closing Prices')"
      ]
     },
     "execution_count": 61,
     "metadata": {},
     "output_type": "execute_result"
    },
    {
     "data": {
      "image/png": "[encoded data removed]",
      "text/plain": [
       "<Figure size 432x288 with 1 Axes>"
      ]
     },
     "metadata": {
      "needs_background": "light"
     },
     "output_type": "display_data"
    }
   ],
   "source": [
    "plt.plot(silver_df['Date'],silver_df['Price'])\n",
    "plt.title('Silver Closing Prices')"
   ]
  },
  {
   "cell_type": "code",
   "execution_count": 62,
   "metadata": {},
   "outputs": [
    {
     "name": "stdout",
     "output_type": "stream",
     "text": [
      "<class 'pandas.core.frame.DataFrame'>\n",
      "RangeIndex: 119 entries, 0 to 118\n",
      "Data columns (total 7 columns):\n",
      "Date        119 non-null datetime64[ns]\n",
      "Price       119 non-null float64\n",
      "Open        119 non-null float64\n",
      "High        119 non-null float64\n",
      "Low         119 non-null float64\n",
      "Vol.        119 non-null object\n",
      "Change %    119 non-null object\n",
      "dtypes: datetime64[ns](1), float64(4), object(2)\n",
      "memory usage: 6.6+ KB\n"
     ]
    }
   ],
   "source": [
    "gold_df.info()"
   ]
  },
  {
   "cell_type": "code",
   "execution_count": 63,
   "metadata": {},
   "outputs": [
    {
     "name": "stdout",
     "output_type": "stream",
     "text": [
      "<class 'pandas.core.frame.DataFrame'>\n",
      "RangeIndex: 119 entries, 0 to 118\n",
      "Data columns (total 7 columns):\n",
      "Date        119 non-null datetime64[ns]\n",
      "Price       119 non-null float64\n",
      "Open        119 non-null float64\n",
      "High        119 non-null float64\n",
      "Low         119 non-null float64\n",
      "Vol.        119 non-null object\n",
      "Change %    119 non-null object\n",
      "dtypes: datetime64[ns](1), float64(4), object(2)\n",
      "memory usage: 6.6+ KB\n"
     ]
    }
   ],
   "source": [
    "gold_df.info()"
   ]
  },
  {
   "cell_type": "code",
   "execution_count": 64,
   "metadata": {
    "scrolled": true
   },
   "outputs": [
    {
     "data": {
      "text/html": [
       "<div>\n",
       "<style scoped>\n",
       "    .dataframe tbody tr th:only-of-type {\n",
       "        vertical-align: middle;\n",
       "    }\n",
       "\n",
       "    .dataframe tbody tr th {\n",
       "        vertical-align: top;\n",
       "    }\n",
       "\n",
       "    .dataframe thead th {\n",
       "        text-align: right;\n",
       "    }\n",
       "</style>\n",
       "<table border=\"1\" class=\"dataframe\">\n",
       "  <thead>\n",
       "    <tr style=\"text-align: right;\">\n",
       "      <th></th>\n",
       "      <th>Date</th>\n",
       "      <th>Price</th>\n",
       "      <th>Open</th>\n",
       "      <th>High</th>\n",
       "      <th>Low</th>\n",
       "      <th>Vol.</th>\n",
       "      <th>Change %</th>\n",
       "    </tr>\n",
       "  </thead>\n",
       "  <tbody>\n",
       "    <tr>\n",
       "      <th>0</th>\n",
       "      <td>2019-06-11</td>\n",
       "      <td>1331.55</td>\n",
       "      <td>1333.25</td>\n",
       "      <td>1333.75</td>\n",
       "      <td>1323.65</td>\n",
       "      <td>-</td>\n",
       "      <td>0.52%</td>\n",
       "    </tr>\n",
       "    <tr>\n",
       "      <th>1</th>\n",
       "      <td>2019-06-10</td>\n",
       "      <td>1324.70</td>\n",
       "      <td>1335.80</td>\n",
       "      <td>1336.50</td>\n",
       "      <td>1324.10</td>\n",
       "      <td>0.27K</td>\n",
       "      <td>-1.23%</td>\n",
       "    </tr>\n",
       "    <tr>\n",
       "      <th>2</th>\n",
       "      <td>2019-06-07</td>\n",
       "      <td>1341.20</td>\n",
       "      <td>1333.10</td>\n",
       "      <td>1347.70</td>\n",
       "      <td>1329.80</td>\n",
       "      <td>0.24K</td>\n",
       "      <td>0.27%</td>\n",
       "    </tr>\n",
       "    <tr>\n",
       "      <th>3</th>\n",
       "      <td>2019-06-06</td>\n",
       "      <td>1337.60</td>\n",
       "      <td>1330.80</td>\n",
       "      <td>1338.70</td>\n",
       "      <td>1326.20</td>\n",
       "      <td>0.16K</td>\n",
       "      <td>0.70%</td>\n",
       "    </tr>\n",
       "    <tr>\n",
       "      <th>4</th>\n",
       "      <td>2019-06-05</td>\n",
       "      <td>1328.30</td>\n",
       "      <td>1328.90</td>\n",
       "      <td>1343.30</td>\n",
       "      <td>1326.30</td>\n",
       "      <td>0.62K</td>\n",
       "      <td>0.37%</td>\n",
       "    </tr>\n",
       "    <tr>\n",
       "      <th>5</th>\n",
       "      <td>2019-06-04</td>\n",
       "      <td>1323.40</td>\n",
       "      <td>1324.30</td>\n",
       "      <td>1328.60</td>\n",
       "      <td>1320.80</td>\n",
       "      <td>0.30K</td>\n",
       "      <td>0.05%</td>\n",
       "    </tr>\n",
       "    <tr>\n",
       "      <th>6</th>\n",
       "      <td>2019-06-03</td>\n",
       "      <td>1322.70</td>\n",
       "      <td>1307.00</td>\n",
       "      <td>1327.80</td>\n",
       "      <td>1307.00</td>\n",
       "      <td>0.81K</td>\n",
       "      <td>1.29%</td>\n",
       "    </tr>\n",
       "    <tr>\n",
       "      <th>7</th>\n",
       "      <td>2019-05-31</td>\n",
       "      <td>1305.80</td>\n",
       "      <td>1287.70</td>\n",
       "      <td>1306.40</td>\n",
       "      <td>1287.50</td>\n",
       "      <td>2.81K</td>\n",
       "      <td>1.45%</td>\n",
       "    </tr>\n",
       "    <tr>\n",
       "      <th>8</th>\n",
       "      <td>2019-05-30</td>\n",
       "      <td>1287.10</td>\n",
       "      <td>1279.40</td>\n",
       "      <td>1288.30</td>\n",
       "      <td>1273.90</td>\n",
       "      <td>55.57K</td>\n",
       "      <td>0.48%</td>\n",
       "    </tr>\n",
       "    <tr>\n",
       "      <th>9</th>\n",
       "      <td>2019-05-29</td>\n",
       "      <td>1281.00</td>\n",
       "      <td>1278.90</td>\n",
       "      <td>1285.20</td>\n",
       "      <td>1278.40</td>\n",
       "      <td>189.69K</td>\n",
       "      <td>0.31%</td>\n",
       "    </tr>\n",
       "  </tbody>\n",
       "</table>\n",
       "</div>"
      ],
      "text/plain": [
       "        Date    Price     Open     High      Low     Vol. Change %\n",
       "0 2019-06-11  1331.55  1333.25  1333.75  1323.65        -    0.52%\n",
       "1 2019-06-10  1324.70  1335.80  1336.50  1324.10    0.27K   -1.23%\n",
       "2 2019-06-07  1341.20  1333.10  1347.70  1329.80    0.24K    0.27%\n",
       "3 2019-06-06  1337.60  1330.80  1338.70  1326.20    0.16K    0.70%\n",
       "4 2019-06-05  1328.30  1328.90  1343.30  1326.30    0.62K    0.37%\n",
       "5 2019-06-04  1323.40  1324.30  1328.60  1320.80    0.30K    0.05%\n",
       "6 2019-06-03  1322.70  1307.00  1327.80  1307.00    0.81K    1.29%\n",
       "7 2019-05-31  1305.80  1287.70  1306.40  1287.50    2.81K    1.45%\n",
       "8 2019-05-30  1287.10  1279.40  1288.30  1273.90   55.57K    0.48%\n",
       "9 2019-05-29  1281.00  1278.90  1285.20  1278.40  189.69K    0.31%"
      ]
     },
     "execution_count": 64,
     "metadata": {},
     "output_type": "execute_result"
    }
   ],
   "source": [
    "gold_df.head(10)"
   ]
  },
  {
   "cell_type": "code",
   "execution_count": 65,
   "metadata": {},
   "outputs": [
    {
     "data": {
      "text/plain": [
       "Text(0.5, 1.0, 'Gold Closing Prices')"
      ]
     },
     "execution_count": 65,
     "metadata": {},
     "output_type": "execute_result"
    },
    {
     "data": {
      "image/png": "[encoded data removed]",
      "text/plain": [
       "<Figure size 432x288 with 1 Axes>"
      ]
     },
     "metadata": {
      "needs_background": "light"
     },
     "output_type": "display_data"
    }
   ],
   "source": [
    "plt.plot(gold_df['Date'],gold_df['Price'])\n",
    "plt.title(\"Gold Closing Prices\")"
   ]
  },
  {
   "cell_type": "code",
   "execution_count": 66,
   "metadata": {},
   "outputs": [
    {
     "data": {
      "text/plain": [
       "array([1331.55, 1324.7 , 1341.2 , 1337.6 , 1328.3 , 1323.4 , 1322.7 ,\n",
       "       1305.8 , 1287.1 , 1281.  , 1277.1 , 1284.95, 1284.15, 1283.6 ,\n",
       "       1285.4 , 1274.2 , 1273.2 , 1277.3 , 1275.7 , 1286.2 , 1297.8 ,\n",
       "       1296.3 , 1301.8 , 1287.4 , 1285.2 , 1281.4 , 1285.6 , 1283.8 ,\n",
       "       1281.3 , 1272.  , 1284.2 , 1285.7 , 1281.5 , 1288.8 , 1279.7 ,\n",
       "       1279.4 , 1273.2 , 1277.6 , 1277.9 , 1276.  , 1276.8 , 1277.2 ,\n",
       "       1291.3 , 1295.2 , 1293.3 , 1313.9 , 1308.3 , 1301.9 , 1295.6 ,\n",
       "       1294.3 , 1295.3 , 1295.4 , 1294.2 , 1298.5 , 1295.3 , 1316.9 ,\n",
       "       1321.4 , 1329.  , 1318.7 , 1313.6 , 1307.8 , 1312.7 , 1307.7 ,\n",
       "       1308.9 , 1301.4 , 1315.8 , 1304.5 , 1297.6 , 1306.  , 1292.8 ,\n",
       "       1294.2 , 1291.2 , 1294.  , 1305.8 , 1322.7 , 1327.9 , 1335.2 ,\n",
       "       1336.1 , 1339.4 , 1334.3 , 1354.4 , 1351.3 , 1329.55, 1324.25,\n",
       "       1328.5 , 1320.4 , 1321.6 , 1320.4 , 1318.4 , 1325.  , 1320.7 ,\n",
       "       1320.9 , 1325.8 , 1325.8 , 1328.6 , 1331.6 , 1321.9 , 1321.7 ,\n",
       "       1315.9 , 1310.6 , 1292.3 , 1296.7 , 1295.9 , 1279.05, 1282.05,\n",
       "       1295.2 , 1305.  , 1306.6 , 1301.3 , 1304.6 , 1302.7 , 1300.5 ,\n",
       "       1304.9 , 1298.8 , 1302.9 , 1298.7 , 1307.7 , 1296.9 , 1283.35])"
      ]
     },
     "execution_count": 66,
     "metadata": {},
     "output_type": "execute_result"
    }
   ],
   "source": [
    "gold_df['Price'].values"
   ]
  },
  {
   "cell_type": "code",
   "execution_count": 67,
   "metadata": {},
   "outputs": [],
   "source": [
    "def load_precious_metals_data(start_date,end_date,name):\n",
    "    #date will be used for the index, price as the value of interest. \n",
    "    #these can be changed in the variables below\n",
    "    price = 'Price'\n",
    "    date = 'Date'\n",
    "    name = name\n",
    "    #This function expects Gold Futures Historical Data.csv and Silver Futures Historical Data.csv \n",
    "    #in the ./data/ folder\n",
    "    \n",
    "    file_name = './data/{}'.format(''.join([ name, ' Futures Historical Data.csv']))\n",
    "    print (file_name)\n",
    "    df = pd.read_csv(file_name,sep=',', thousands=',')\n",
    "    df.sort_values(date,inplace=True)\n",
    "    df = df.set_index(pd.to_datetime(df[date]))\n",
    "    del df[date]\n",
    "    return pd.Series(df[price], df.index).loc[start_date:end_date]"
   ]
  },
  {
   "cell_type": "code",
   "execution_count": 68,
   "metadata": {},
   "outputs": [
    {
     "name": "stdout",
     "output_type": "stream",
     "text": [
      "./data/Gold Futures Historical Data.csv\n"
     ]
    }
   ],
   "source": [
    "commodity = 'Gold'\n",
    "start_date = '2019-03-01'\n",
    "end_date = '2019-06-11'\n",
    "metal = load_precious_metals_data(start_date,end_date,commodity)"
   ]
  },
  {
   "cell_type": "code",
   "execution_count": 69,
   "metadata": {},
   "outputs": [
    {
     "data": {
      "text/plain": [
       "Date\n",
       "2019-04-01    1294.20\n",
       "2019-04-02    1295.40\n",
       "2019-04-03    1295.30\n",
       "2019-04-04    1294.30\n",
       "2019-04-05    1295.60\n",
       "2019-04-08    1301.90\n",
       "2019-04-09    1308.30\n",
       "2019-04-10    1313.90\n",
       "2019-04-11    1293.30\n",
       "2019-04-12    1295.20\n",
       "2019-04-15    1291.30\n",
       "2019-04-16    1277.20\n",
       "2019-04-17    1276.80\n",
       "2019-04-18    1276.00\n",
       "2019-04-19    1277.90\n",
       "2019-04-22    1277.60\n",
       "2019-04-23    1273.20\n",
       "2019-04-24    1279.40\n",
       "2019-04-25    1279.70\n",
       "2019-04-26    1288.80\n",
       "2019-04-29    1281.50\n",
       "2019-04-30    1285.70\n",
       "2019-06-03    1322.70\n",
       "2019-06-04    1323.40\n",
       "2019-06-05    1328.30\n",
       "2019-06-06    1337.60\n",
       "2019-06-07    1341.20\n",
       "2019-06-10    1324.70\n",
       "2019-06-11    1331.55\n",
       "2019-03-01    1305.80\n",
       "               ...   \n",
       "2019-03-22    1318.70\n",
       "2019-03-25    1329.00\n",
       "2019-03-26    1321.40\n",
       "2019-03-27    1316.90\n",
       "2019-03-28    1295.30\n",
       "2019-03-29    1298.50\n",
       "2019-05-01    1284.20\n",
       "2019-05-02    1272.00\n",
       "2019-05-03    1281.30\n",
       "2019-05-06    1283.80\n",
       "2019-05-07    1285.60\n",
       "2019-05-08    1281.40\n",
       "2019-05-09    1285.20\n",
       "2019-05-10    1287.40\n",
       "2019-05-13    1301.80\n",
       "2019-05-14    1296.30\n",
       "2019-05-15    1297.80\n",
       "2019-05-16    1286.20\n",
       "2019-05-17    1275.70\n",
       "2019-05-20    1277.30\n",
       "2019-05-21    1273.20\n",
       "2019-05-22    1274.20\n",
       "2019-05-23    1285.40\n",
       "2019-05-24    1283.60\n",
       "2019-05-26    1284.15\n",
       "2019-05-27    1284.95\n",
       "2019-05-28    1277.10\n",
       "2019-05-29    1281.00\n",
       "2019-05-30    1287.10\n",
       "2019-05-31    1305.80\n",
       "Name: Price, Length: 74, dtype: float64"
      ]
     },
     "execution_count": 69,
     "metadata": {},
     "output_type": "execute_result"
    }
   ],
   "source": [
    "metal"
   ]
  },
  {
   "cell_type": "code",
   "execution_count": 70,
   "metadata": {},
   "outputs": [
    {
     "data": {
      "text/plain": [
       "array([1294.2 , 1295.4 , 1295.3 , 1294.3 , 1295.6 , 1301.9 , 1308.3 ,\n",
       "       1313.9 , 1293.3 , 1295.2 , 1291.3 , 1277.2 , 1276.8 , 1276.  ,\n",
       "       1277.9 , 1277.6 , 1273.2 , 1279.4 , 1279.7 , 1288.8 , 1281.5 ,\n",
       "       1285.7 , 1322.7 , 1323.4 , 1328.3 , 1337.6 , 1341.2 , 1324.7 ,\n",
       "       1331.55, 1305.8 , 1294.  , 1291.2 , 1294.2 , 1292.8 , 1306.  ,\n",
       "       1297.6 , 1304.5 , 1315.8 , 1301.4 , 1308.9 , 1307.7 , 1312.7 ,\n",
       "       1307.8 , 1313.6 , 1318.7 , 1329.  , 1321.4 , 1316.9 , 1295.3 ,\n",
       "       1298.5 , 1284.2 , 1272.  , 1281.3 , 1283.8 , 1285.6 , 1281.4 ,\n",
       "       1285.2 , 1287.4 , 1301.8 , 1296.3 , 1297.8 , 1286.2 , 1275.7 ,\n",
       "       1277.3 , 1273.2 , 1274.2 , 1285.4 , 1283.6 , 1284.15, 1284.95,\n",
       "       1277.1 , 1281.  , 1287.1 , 1305.8 ])"
      ]
     },
     "execution_count": 70,
     "metadata": {},
     "output_type": "execute_result"
    }
   ],
   "source": [
    "metal.values"
   ]
  },
  {
   "cell_type": "code",
   "execution_count": 71,
   "metadata": {},
   "outputs": [
    {
     "data": {
      "text/plain": [
       "Date\n",
       "2019-04-02     1.20\n",
       "2019-04-03    -0.10\n",
       "2019-04-04    -1.00\n",
       "2019-04-05     1.30\n",
       "2019-04-08     6.30\n",
       "2019-04-09     6.40\n",
       "2019-04-10     5.60\n",
       "2019-04-11   -20.60\n",
       "2019-04-12     1.90\n",
       "2019-04-15    -3.90\n",
       "2019-04-16   -14.10\n",
       "2019-04-17    -0.40\n",
       "2019-04-18    -0.80\n",
       "2019-04-19     1.90\n",
       "2019-04-22    -0.30\n",
       "2019-04-23    -4.40\n",
       "2019-04-24     6.20\n",
       "2019-04-25     0.30\n",
       "2019-04-26     9.10\n",
       "2019-04-29    -7.30\n",
       "2019-04-30     4.20\n",
       "2019-06-03    37.00\n",
       "2019-06-04     0.70\n",
       "2019-06-05     4.90\n",
       "2019-06-06     9.30\n",
       "2019-06-07     3.60\n",
       "2019-06-10   -16.50\n",
       "2019-06-11     6.85\n",
       "2019-03-01   -25.75\n",
       "2019-03-04   -11.80\n",
       "              ...  \n",
       "2019-03-22     5.10\n",
       "2019-03-25    10.30\n",
       "2019-03-26    -7.60\n",
       "2019-03-27    -4.50\n",
       "2019-03-28   -21.60\n",
       "2019-03-29     3.20\n",
       "2019-05-01   -14.30\n",
       "2019-05-02   -12.20\n",
       "2019-05-03     9.30\n",
       "2019-05-06     2.50\n",
       "2019-05-07     1.80\n",
       "2019-05-08    -4.20\n",
       "2019-05-09     3.80\n",
       "2019-05-10     2.20\n",
       "2019-05-13    14.40\n",
       "2019-05-14    -5.50\n",
       "2019-05-15     1.50\n",
       "2019-05-16   -11.60\n",
       "2019-05-17   -10.50\n",
       "2019-05-20     1.60\n",
       "2019-05-21    -4.10\n",
       "2019-05-22     1.00\n",
       "2019-05-23    11.20\n",
       "2019-05-24    -1.80\n",
       "2019-05-26     0.55\n",
       "2019-05-27     0.80\n",
       "2019-05-28    -7.85\n",
       "2019-05-29     3.90\n",
       "2019-05-30     6.10\n",
       "2019-05-31    18.70\n",
       "Name: Price, Length: 73, dtype: float64"
      ]
     },
     "execution_count": 71,
     "metadata": {},
     "output_type": "execute_result"
    }
   ],
   "source": [
    "metal.diff()[1:]"
   ]
  },
  {
   "cell_type": "code",
   "execution_count": 72,
   "metadata": {
    "scrolled": true
   },
   "outputs": [],
   "source": [
    "def ADF_test(x,name):\n",
    "    alpha = .05\n",
    "    test = sm.tsa.stattools.adfuller(x.values)\n",
    "    print(name,\" ADF p-value: {0:2.2f}\".format(test[1]))\n",
    "    print('A low p-value would indicate the data are stationary')"
   ]
  },
  {
   "cell_type": "code",
   "execution_count": 73,
   "metadata": {},
   "outputs": [
    {
     "name": "stdout",
     "output_type": "stream",
     "text": [
      "Gold  ADF p-value: 0.01\n",
      "A low p-value would indicate the data are stationary\n"
     ]
    }
   ],
   "source": [
    "ADF_test(metal,commodity)"
   ]
  },
  {
   "cell_type": "code",
   "execution_count": 74,
   "metadata": {},
   "outputs": [
    {
     "name": "stdout",
     "output_type": "stream",
     "text": [
      "Gold  ADF p-value: 0.00\n",
      "A low p-value would indicate the data are stationary\n"
     ]
    }
   ],
   "source": [
    "ADF_test(metal.diff()[1:],commodity)"
   ]
  },
  {
   "cell_type": "code",
   "execution_count": 75,
   "metadata": {},
   "outputs": [
    {
     "data": {
      "text/plain": [
       "Date        2019-01-01 00:00:00\n",
       "Price                      1272\n",
       "Open                     1271.6\n",
       "High                     1277.1\n",
       "Low                      1267.3\n",
       "Vol.                          -\n",
       "Change %                 -0.01%\n",
       "dtype: object"
      ]
     },
     "execution_count": 75,
     "metadata": {},
     "output_type": "execute_result"
    }
   ],
   "source": [
    "gold_df.min()"
   ]
  },
  {
   "cell_type": "code",
   "execution_count": 76,
   "metadata": {},
   "outputs": [
    {
     "name": "stdout",
     "output_type": "stream",
     "text": [
      "Gold  ADF p-value: 0.42\n",
      "A low p-value would indicate the data are stationary\n"
     ]
    }
   ],
   "source": [
    "ADF_test(silver_df['Price'],commodity)"
   ]
  },
  {
   "cell_type": "code",
   "execution_count": 77,
   "metadata": {},
   "outputs": [
    {
     "name": "stdout",
     "output_type": "stream",
     "text": [
      "Gold  ADF p-value: 0.00\n",
      "A low p-value would indicate the data are stationary\n"
     ]
    }
   ],
   "source": [
    "ADF_test(silver_df['Price'].diff()[1:],commodity)"
   ]
  },
  {
   "cell_type": "code",
   "execution_count": 78,
   "metadata": {},
   "outputs": [
    {
     "data": {
      "text/plain": [
       "Series([], Name: Price, dtype: float64)"
      ]
     },
     "execution_count": 78,
     "metadata": {},
     "output_type": "execute_result"
    }
   ],
   "source": [
    "metal.loc['2019-01-07':'2019-01-03']"
   ]
  },
  {
   "cell_type": "markdown",
   "metadata": {},
   "source": [
    "2. Please then write a program that takes the following 3 command line arguments:\n",
    "\n",
    "•             Start date (in the format 2017-05-10)\n",
    "\n",
    "•             End date (in the format 2017-05-22)\n",
    "\n",
    "•             Commodity type (either \"gold\" or silver”)\n",
    "\n",
    "Then first describe the statistical properties of the data. Next, tell whether the data are stationary. Lastly, provide additional time series properties of interest, if any."
   ]
  },
  {
   "cell_type": "markdown",
   "metadata": {},
   "source": [
    "# Run precious_metal.py from the command line in a directory with the /data/ folder including historical gold and silver prices\n"
   ]
  },
  {
   "cell_type": "markdown",
   "metadata": {},
   "source": [
    "3. Write a program to help you decide how useful the previous gold or silver prices are as predictors for their future prices.\n",
    "\n",
    "Also determine if past prices are useful in predicting the direction of change (increase or decrease). There is no need to provide future predictions, and you may use whatever tests you deem useful.\n",
    "\n",
    "Please feel free to use whatever language you think is best suited to the task and/or familiar to you.\n",
    "\n",
    "Please also feel free to consult references (e.g. hard to remember libraries, function names, call signatures, etc.) as necessary, and don’t be shy about asking for help if you get stuck."
   ]
  },
  {
   "cell_type": "code",
   "execution_count": null,
   "metadata": {},
   "outputs": [],
   "source": []
  }
 ],
 "metadata": {
  "kernelspec": {
   "display_name": "Python 3",
   "language": "python",
   "name": "python3"
  }
 },
 "nbformat": 4,
 "nbformat_minor": 2
}
